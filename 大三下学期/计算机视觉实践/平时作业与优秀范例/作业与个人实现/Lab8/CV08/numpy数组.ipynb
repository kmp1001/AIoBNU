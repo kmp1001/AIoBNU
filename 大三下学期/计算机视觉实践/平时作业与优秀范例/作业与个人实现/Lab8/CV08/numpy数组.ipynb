{
 "cells": [
  {
   "cell_type": "markdown",
   "metadata": {},
   "source": [
    "作者：邓擎琼"
   ]
  },
  {
   "attachments": {},
   "cell_type": "markdown",
   "metadata": {},
   "source": [
    "# numpy 数组\n",
    "\n",
    "numpy提供了数组的构建方法，以及对数组进行处理的大量方法和函数。\n",
    "\n",
    "numpy的官网：http://www.numpy.org/\n",
    "\n",
    "官方文档：https://numpy.org/doc/stable/"
   ]
  },
  {
   "cell_type": "markdown",
   "metadata": {},
   "source": [
    "## 1. numpy的导入惯例"
   ]
  },
  {
   "cell_type": "code",
   "execution_count": null,
   "metadata": {},
   "outputs": [],
   "source": [
    "import numpy as np"
   ]
  },
  {
   "attachments": {},
   "cell_type": "markdown",
   "metadata": {},
   "source": [
    "## 2. 数组的创建\n",
    "\n",
    "数组的创建方法有很多，具体见下面的网页：\n",
    "\n",
    "https://docs.scipy.org/doc/numpy/reference/routines.array-creation.html"
   ]
  },
  {
   "cell_type": "markdown",
   "metadata": {},
   "source": [
    "```python\n",
    "#列表转成numpy数组\n",
    "a = np.array([1,2,3,4])\n",
    "print(type(a), a)\n",
    "\n",
    "#numpy数组转成列表\n",
    "l = a.tolist()\n",
    "print(type(l),l)\n",
    "\n",
    "b = np.array([[1,2,3,4],[5,6,7,8]])\n",
    "print(type(b), b)\n",
    "\n",
    "#不初始化值\n",
    "c = np.empty((3,2))\n",
    "print(c)\n",
    "\n",
    "#全为1\n",
    "d1  = np.ones((2,3))\n",
    "print(d1)\n",
    "\n",
    "#全为0\n",
    "d2 = np.zeros((2,2))\n",
    "print(d2)\n",
    "\n",
    "#和某个数组shape一样的全为0数组\n",
    "d3 = np.zeros_like(c)\n",
    "print(d3)\n",
    "\n",
    "#对角矩阵\n",
    "e = np.diag([5,8,9])\n",
    "print(e)\n",
    "\n",
    "#单位矩阵\n",
    "f = np.eye(4)\n",
    "print(f)\n",
    "\n",
    "#类似range的等差数列，开始值、终值和步长\n",
    "g = np.arange(0, 1, 0.1)\n",
    "print(g)\n",
    "\n",
    "#等差数列，但通过开始值、终值和元素个数来创建一维数组\n",
    "h = np.linspace(0,10,5)\n",
    "print(h)\n",
    "\n",
    "#类似linspace，但是创建等比数列，开始值和终值都是10为底的mi\n",
    "i = np.logspace(1,2,5)\n",
    "print(i)\n",
    "```"
   ]
  },
  {
   "cell_type": "markdown",
   "metadata": {},
   "source": [
    "<div class=\"alert alert-success alertsuccess\" style=\"margin-top: 10px\">\n",
    "    轮到你了：\n",
    "</div>"
   ]
  },
  {
   "cell_type": "code",
   "execution_count": null,
   "metadata": {},
   "outputs": [],
   "source": []
  },
  {
   "cell_type": "markdown",
   "metadata": {},
   "source": [
    "### 2.1 数组的基本属性"
   ]
  },
  {
   "cell_type": "markdown",
   "metadata": {},
   "source": [
    "<div class=\"alert alert-success alertsuccess\" style=\"margin-top: 10px\">\n",
    "    代码示例：\n",
    "</div>"
   ]
  },
  {
   "cell_type": "markdown",
   "metadata": {},
   "source": [
    "```python\n",
    "a = np.random.rand(2,3)\n",
    "print(a)\n",
    "\n",
    "print(a.ndim)  #维度\n",
    "print(a.shape, a.shape[0], a.shape[1]) #形状\n",
    "\n",
    "print(a.size)  #元素总个数\n",
    "\n",
    "print(a.dtype)  #元素类型\n",
    "\n",
    "print(a.itemsize)  #一个元素存储所需字节数\n",
    "```"
   ]
  },
  {
   "cell_type": "markdown",
   "metadata": {},
   "source": [
    "<div class=\"alert alert-success alertsuccess\" style=\"margin-top: 10px\">\n",
    "    轮到你了：\n",
    "</div>"
   ]
  },
  {
   "cell_type": "code",
   "execution_count": null,
   "metadata": {},
   "outputs": [],
   "source": []
  },
  {
   "cell_type": "markdown",
   "metadata": {},
   "source": [
    "### 2.2 数组的数据类型"
   ]
  },
  {
   "cell_type": "markdown",
   "metadata": {},
   "source": [
    "#### 2.2.1 创建数组时指定数据类型"
   ]
  },
  {
   "cell_type": "markdown",
   "metadata": {},
   "source": [
    "<div class=\"alert alert-success alertsuccess\" style=\"margin-top: 10px\">\n",
    "    代码示例：\n",
    "</div>"
   ]
  },
  {
   "cell_type": "markdown",
   "metadata": {},
   "source": [
    "```python\n",
    "#通过dtype指定数组元素的数据类型\n",
    "a = np.array([1,2,3,4],dtype='float32')\n",
    "print(a)\n",
    "\n",
    "b = np.ones((2,3),dtype='i2')\n",
    "print(b)\n",
    "\n",
    "c = np.array(['12345', 'zhang','张三','司马相如'], dtype='U3')\n",
    "c\n",
    "```"
   ]
  },
  {
   "cell_type": "markdown",
   "metadata": {},
   "source": [
    "<div class=\"alert alert-success alertsuccess\" style=\"margin-top: 10px\">\n",
    "    轮到你了：\n",
    "</div>"
   ]
  },
  {
   "cell_type": "code",
   "execution_count": null,
   "metadata": {},
   "outputs": [],
   "source": []
  },
  {
   "cell_type": "markdown",
   "metadata": {},
   "source": [
    "#### 2.2.2 修改数组的数据类型"
   ]
  },
  {
   "cell_type": "markdown",
   "metadata": {},
   "source": [
    "<div class=\"alert alert-success alertsuccess\" style=\"margin-top: 10px\">\n",
    "    代码示例：\n",
    "</div>"
   ]
  },
  {
   "cell_type": "markdown",
   "metadata": {},
   "source": [
    "```python\n",
    "a = np.array([1.5, 3.2, 5.7])\n",
    "b = a.astype(int)\n",
    "print(a)\n",
    "print(b)\n",
    "\n",
    "c = np.array([b'zhang',b'1234']).astype(str)\n",
    "c\n",
    "```"
   ]
  },
  {
   "cell_type": "markdown",
   "metadata": {},
   "source": [
    "<div class=\"alert alert-success alertsuccess\" style=\"margin-top: 10px\">\n",
    "    轮到你了：\n",
    "</div>"
   ]
  },
  {
   "cell_type": "code",
   "execution_count": null,
   "metadata": {},
   "outputs": [],
   "source": []
  },
  {
   "cell_type": "markdown",
   "metadata": {},
   "source": [
    "### 2.3 数组的形状及其操作"
   ]
  },
  {
   "cell_type": "markdown",
   "metadata": {},
   "source": [
    "<div class=\"alert alert-success alertsuccess\" style=\"margin-top: 10px\">\n",
    "    reshape 代码示例：\n",
    "</div>"
   ]
  },
  {
   "cell_type": "markdown",
   "metadata": {},
   "source": [
    "```python\n",
    "#reshape\n",
    "a = np.arange(1,9)\n",
    "print(a)\n",
    "\n",
    "b = a.reshape((2,4))\n",
    "print(b)\n",
    "print(a)\n",
    "\n",
    "#原数据视图：一个变，另一个也变\n",
    "b[1,1] = 100\n",
    "print(a)\n",
    "print(b)\n",
    "\n",
    "a[0] = 99\n",
    "print(a)\n",
    "print(b)\n",
    "\n",
    "#有一个轴为-1会自动计算\n",
    "c = b.reshape((-1,2))\n",
    "print(c)\n",
    "```"
   ]
  },
  {
   "cell_type": "markdown",
   "metadata": {},
   "source": [
    "<div class=\"alert alert-success alertsuccess\" style=\"margin-top: 10px\">\n",
    "    轮到你了：\n",
    "</div>"
   ]
  },
  {
   "cell_type": "code",
   "execution_count": null,
   "metadata": {},
   "outputs": [],
   "source": []
  },
  {
   "cell_type": "markdown",
   "metadata": {},
   "source": [
    "<div class=\"alert alert-success alertsuccess\" style=\"margin-top: 10px\">\n",
    "    shape resize 代码示例：\n",
    "</div>"
   ]
  },
  {
   "cell_type": "markdown",
   "metadata": {},
   "source": [
    "```python\n",
    "a = np.arange(1,9)\n",
    "print(a)\n",
    "print(a.shape)\n",
    "\n",
    "a.shape=(-1,1)\n",
    "print(a)\n",
    "print(a.shape)\n",
    "\n",
    "a.resize((2,4))\n",
    "print(a)\n",
    "print(a.shape)\n",
    "```"
   ]
  },
  {
   "cell_type": "markdown",
   "metadata": {},
   "source": [
    "<div class=\"alert alert-success alertsuccess\" style=\"margin-top: 10px\">\n",
    "    轮到你了：\n",
    "</div>"
   ]
  },
  {
   "cell_type": "code",
   "execution_count": null,
   "metadata": {},
   "outputs": [],
   "source": []
  },
  {
   "cell_type": "markdown",
   "metadata": {},
   "source": [
    "<div class=\"alert alert-success alertsuccess\" style=\"margin-top: 10px\">\n",
    "    ravel flatten 把高维变成一维 代码示例：\n",
    "</div>"
   ]
  },
  {
   "cell_type": "markdown",
   "metadata": {},
   "source": [
    "```python\n",
    "a = np.arange(1,9).reshape((2,4))\n",
    "print(a)\n",
    "print(a.shape)\n",
    "\n",
    "b = a.ravel()\n",
    "print(b)\n",
    "print(b.shape)\n",
    "\n",
    "c = a.reshape((a.size,))\n",
    "print(c)\n",
    "print(c.shape)\n",
    "\n",
    "#ravel 会是原数据视图\n",
    "b[0] = 99\n",
    "c[1] = 100\n",
    "print(a)\n",
    "print(b)\n",
    "print(c)\n",
    "\n",
    "#flatten 不是元素组视图\n",
    "d = a.flatten()\n",
    "print(d)\n",
    "print(d.shape)\n",
    "\n",
    "d[2] = 98\n",
    "print(d)\n",
    "print(a)\n",
    "```"
   ]
  },
  {
   "cell_type": "markdown",
   "metadata": {},
   "source": [
    "<div class=\"alert alert-success alertsuccess\" style=\"margin-top: 10px\">\n",
    "    轮到你了：\n",
    "</div>"
   ]
  },
  {
   "cell_type": "code",
   "execution_count": null,
   "metadata": {},
   "outputs": [],
   "source": []
  },
  {
   "cell_type": "markdown",
   "metadata": {},
   "source": [
    "<div class=\"alert alert-success alertsuccess\" style=\"margin-top: 10px\">\n",
    "    转置 代码示例：\n",
    "</div>"
   ]
  },
  {
   "cell_type": "markdown",
   "metadata": {},
   "source": [
    "```python\n",
    "a = np.arange(2*3*4).reshape((2,3,4))\n",
    "print(a)\n",
    "print(a.shape)\n",
    "\n",
    "b = a.T\n",
    "print(b)\n",
    "print(b.shape)\n",
    "\n",
    "b[0,0,1] = 100\n",
    "print(a)\n",
    "print(b)\n",
    "```"
   ]
  },
  {
   "cell_type": "markdown",
   "metadata": {},
   "source": [
    "<div class=\"alert alert-success alertsuccess\" style=\"margin-top: 10px\">\n",
    "    轮到你了：\n",
    "</div>"
   ]
  },
  {
   "cell_type": "code",
   "execution_count": null,
   "metadata": {},
   "outputs": [],
   "source": []
  },
  {
   "cell_type": "markdown",
   "metadata": {},
   "source": [
    "<div class=\"alert alert-success alertsuccess\" style=\"margin-top: 10px\">\n",
    "    任意确定各轴顺序 numpy.transpose 代码示例：\n",
    "</div>"
   ]
  },
  {
   "cell_type": "markdown",
   "metadata": {},
   "source": [
    "```python\n",
    "a = np.arange(2*3*4).reshape((2,3,4))\n",
    "print(a)\n",
    "print(a.shape)\n",
    "\n",
    "b = np.transpose(a, axes=[0,2,1])\n",
    "print(b)\n",
    "print(b.shape)\n",
    "\n",
    "b = np.transpose(a, axes=[1,0,2])\n",
    "print(b)\n",
    "print(b.shape)\n",
    "\n",
    "b[0,0,1] = 100\n",
    "print(a)\n",
    "print(b)\n",
    "\n",
    "c = b.copy()\n",
    "c[0,1,1] = 99\n",
    "print(c)\n",
    "print(b)\n",
    "```"
   ]
  },
  {
   "cell_type": "markdown",
   "metadata": {},
   "source": [
    "<div class=\"alert alert-success alertsuccess\" style=\"margin-top: 10px\">\n",
    "    轮到你了：\n",
    "</div>"
   ]
  },
  {
   "cell_type": "code",
   "execution_count": null,
   "metadata": {},
   "outputs": [],
   "source": []
  },
  {
   "cell_type": "markdown",
   "metadata": {},
   "source": [
    "## 3. 数组的组合及分割"
   ]
  },
  {
   "cell_type": "markdown",
   "metadata": {},
   "source": [
    "### 3.1 数组的组合"
   ]
  },
  {
   "cell_type": "markdown",
   "metadata": {},
   "source": [
    "<div class=\"alert alert-success alertsuccess\" style=\"margin-top: 10px\">\n",
    "    代码示例：\n",
    "</div>"
   ]
  },
  {
   "cell_type": "markdown",
   "metadata": {},
   "source": [
    "```python\n",
    "a = np.array([[0,1,2],[3,4,5]])\n",
    "b = np.array([[0,2,4],[6,8,10]])\n",
    "print(a)\n",
    "print(b)\n",
    "\n",
    "#水平组合\n",
    "c = np.hstack((a,b))\n",
    "print(c)\n",
    "print(c.shape)\n",
    "\n",
    "#垂直组合\n",
    "d = np.vstack((a,b))\n",
    "print(d)\n",
    "print(d.shape)\n",
    "\n",
    "#上述两种组合可以用concatenate实现\n",
    "c2 = np.concatenate((a,b), axis = 1)\n",
    "print(c2)\n",
    "\n",
    "d2 = np.concatenate((a,b), axis = 0)\n",
    "print(d2)\n",
    "\n",
    "#还有stack，但是和上述组合不同，会增加一个维度\n",
    "c3 = np.stack((a,b), axis = 0)\n",
    "print(c3)\n",
    "print(c3.shape)\n",
    "\n",
    "c3 = np.stack((a,b), axis = 1)\n",
    "print(c3)\n",
    "print(c3.shape)\n",
    "\n",
    "c3 = np.stack((a,b), axis = 2)\n",
    "print(c3)\n",
    "print(c3.shape)\n",
    "\n",
    "np.stack?\n",
    "```"
   ]
  },
  {
   "cell_type": "markdown",
   "metadata": {},
   "source": [
    "<div class=\"alert alert-success alertsuccess\" style=\"margin-top: 10px\">\n",
    "    轮到你了：\n",
    "</div>"
   ]
  },
  {
   "cell_type": "code",
   "execution_count": null,
   "metadata": {},
   "outputs": [],
   "source": []
  },
  {
   "cell_type": "markdown",
   "metadata": {},
   "source": [
    "### 3.2 数组的分割"
   ]
  },
  {
   "cell_type": "markdown",
   "metadata": {},
   "source": [
    "<div class=\"alert alert-success alertsuccess\" style=\"margin-top: 10px\">\n",
    "    代码示例：\n",
    "</div>"
   ]
  },
  {
   "cell_type": "markdown",
   "metadata": {},
   "source": [
    "```python\n",
    "a = np.array([[0,1,2],[3,4,5]])\n",
    "print(a)\n",
    "\n",
    "#水平分割\n",
    "a1,a2,a3 = np.hsplit(a,3)\n",
    "print(a1)\n",
    "print(a2)\n",
    "print(a3)\n",
    "print(a1.shape, a2.shape,a3.shape)\n",
    "\n",
    "#垂直分割\n",
    "a1,a2 = np.vsplit(a,2)\n",
    "print(a1)\n",
    "print(a2)\n",
    "print(a1.shape, a2.shape)\n",
    "\n",
    "#可以统一用split实现\n",
    "a1,a2 = np.split(a,2, axis=0)\n",
    "print(a1)\n",
    "print(a2)\n",
    "print(a1.shape, a2.shape)\n",
    "\n",
    "a1,a2,a3 = np.split(a,3, axis=1)\n",
    "print(a1)\n",
    "print(a2)\n",
    "print(a3)\n",
    "print(a1.shape, a2.shape,a3.shape)\n",
    "```"
   ]
  },
  {
   "cell_type": "markdown",
   "metadata": {},
   "source": [
    "<div class=\"alert alert-success alertsuccess\" style=\"margin-top: 10px\">\n",
    "    轮到你了：\n",
    "</div>"
   ]
  },
  {
   "cell_type": "code",
   "execution_count": null,
   "metadata": {},
   "outputs": [],
   "source": []
  },
  {
   "cell_type": "markdown",
   "metadata": {},
   "source": [
    "## 4. 数组元素的存取"
   ]
  },
  {
   "cell_type": "markdown",
   "metadata": {},
   "source": [
    "### 4.1 一维数组元素的存取"
   ]
  },
  {
   "cell_type": "markdown",
   "metadata": {},
   "source": [
    "<div class=\"alert alert-success alertsuccess\" style=\"margin-top: 10px\">\n",
    "    代码示例：\n",
    "</div>"
   ]
  },
  {
   "cell_type": "markdown",
   "metadata": {},
   "source": [
    "```python\n",
    "a = np.arange(10)\n",
    "print(a)\n",
    "\n",
    "#切片下标 用法和Python中的列表等相同\n",
    "print(a[5])\n",
    "print(a[1:-1:2])\n",
    "\n",
    "a[2] = 100\n",
    "print(a)\n",
    "\n",
    "b = a[:4]\n",
    "print(b)\n",
    "\n",
    "#切片所获得的是原数组的视图\n",
    "b[1] = -10\n",
    "print(a)\n",
    "print(b)\n",
    "\n",
    "#高级下标\n",
    "#高级下标1：整数列表/元组\n",
    "c = a[[0,-1,2,5,7]]\n",
    "print(c)\n",
    "\n",
    "#高级下标2：整数数组\n",
    "d = a[np.array([0,-1,2,5,7])]\n",
    "print(d)\n",
    "\n",
    "d2 = a[np.array([[0,-1,2],[5,7,5]])]\n",
    "print(d2)\n",
    "\n",
    "#高级下标3：bool数组\n",
    "e = a[np.array([True, False]*5)]\n",
    "print(e)\n",
    "\n",
    "#bool数组常用于筛出数组中满足某个条件的元素\n",
    "f = np.random.rand(4)\n",
    "print(f)\n",
    "print(f>=0.5) #结果为bool数组\n",
    "print(f[f>=0.5])\n",
    "\n",
    "#高级下标得到的数组不是原数组的视图\n",
    "d [0] = 1000\n",
    "print(d)\n",
    "print(a)\n",
    "```"
   ]
  },
  {
   "cell_type": "markdown",
   "metadata": {},
   "source": [
    "<div class=\"alert alert-success alertsuccess\" style=\"margin-top: 10px\">\n",
    "    轮到你了：\n",
    "</div>"
   ]
  },
  {
   "cell_type": "code",
   "execution_count": null,
   "metadata": {},
   "outputs": [],
   "source": []
  },
  {
   "cell_type": "markdown",
   "metadata": {},
   "source": [
    "### 4.2 多维数组元素的存取"
   ]
  },
  {
   "cell_type": "markdown",
   "metadata": {},
   "source": [
    "<div class=\"alert alert-success alertsuccess\" style=\"margin-top: 10px\">\n",
    "    代码示例：\n",
    "</div>"
   ]
  },
  {
   "cell_type": "markdown",
   "metadata": {},
   "source": [
    "```python\n",
    "a = np.arange(30).reshape((5,6))\n",
    "print(a)\n",
    "\n",
    "#切片下标\n",
    "print(a[0,3:5])\n",
    "print(a[4:,2])\n",
    "print(a[:,3])\n",
    "print(a[1::2,::3])\n",
    "\n",
    "#高级下标\n",
    "print(a[(0,1,2),(2,3,4)]) \n",
    "\n",
    "print(a[:,(2,3,4)])\n",
    "\n",
    "print(a[[0,1,2]])\n",
    "\n",
    "#同上\n",
    "print(a[[0,1,2],:])\n",
    "\n",
    "print(a[1,[0,2,0]])\n",
    "\n",
    "i = np.array((0,1,2))\n",
    "j = np.array((2,3,4))\n",
    "print(a[i,j])\n",
    "\n",
    "i = np.array([1,0,1,1,0],dtype=bool)\n",
    "print(a[i, 2])\n",
    "\n",
    "i = np.array([[1,2,3],[2,3,4]])\n",
    "j = np.array([[1,1,1],[2,2,2]])\n",
    "print(a[i,j])\n",
    "```"
   ]
  },
  {
   "cell_type": "markdown",
   "metadata": {},
   "source": [
    "<div class=\"alert alert-success alertsuccess\" style=\"margin-top: 10px\">\n",
    "    轮到你了：\n",
    "</div>"
   ]
  },
  {
   "cell_type": "code",
   "execution_count": null,
   "metadata": {},
   "outputs": [],
   "source": []
  },
  {
   "attachments": {},
   "cell_type": "markdown",
   "metadata": {},
   "source": [
    "## 5. ufunc运算\n",
    "\n",
    "universal function，是一种能对数组中<font color=\"red\"> <b>每个元素</b></font>进行操作的函数，许多是C语言实现的，因此计算速度非常快。\n",
    "\n",
    "https://docs.scipy.org/doc/numpy/reference/ufuncs.html#ufunc\n",
    "\n",
    "<font color=\"red\"> <b>写for循环之前要三思！！！</b></font>"
   ]
  },
  {
   "cell_type": "markdown",
   "metadata": {},
   "source": [
    "<div class=\"alert alert-success alertsuccess\" style=\"margin-top: 10px\">\n",
    "    代码示例：\n",
    "</div>"
   ]
  },
  {
   "cell_type": "markdown",
   "metadata": {},
   "source": [
    "```python\n",
    "a = np.array([-1,2,3])\n",
    "print(np.abs(a))\n",
    "\n",
    "print(np.exp(a))\n",
    "\n",
    "print(np.power(a,3))\n",
    "\n",
    "#四则运算\n",
    "a = np.ones((2,2))\n",
    "b = np.array([[2,0],[5,3]])\n",
    "print(a)\n",
    "print(b)\n",
    "\n",
    "print(a+b)\n",
    "\n",
    "print(a-b)\n",
    "\n",
    "#不是你平时学的矩阵乘法，是相应位置的元素相乘\n",
    "print(a*b)\n",
    "\n",
    "#你平时学的叫点乘，如下：\n",
    "print(a.dot(b))\n",
    "#或者\n",
    "print(a@b)\n",
    "\n",
    "#出错，有除数为0\n",
    "print(a/b)\n",
    "\n",
    "#比较\n",
    "a = np.array([0, 1, 2, 3, 4])\n",
    "b = np.array([4, 3, 2, 1, 0])\n",
    "\n",
    "print(a>2)\n",
    "\n",
    "print(a==b)\n",
    "\n",
    "print(a>b)\n",
    "\n",
    "#非\n",
    "print(~(a==b))\n",
    "#或者logical_not\n",
    "print(np.logical_not(a==b))\n",
    "\n",
    "print((a==b)|(a>b))\n",
    "#或者logical_or\n",
    "print(np.logical_or(a==b, a>b))\n",
    "\n",
    "print(np.all(a==b))\n",
    "\n",
    "print(np.any(a==b))\n",
    "```"
   ]
  },
  {
   "cell_type": "markdown",
   "metadata": {},
   "source": [
    "<div class=\"alert alert-success alertsuccess\" style=\"margin-top: 10px\">\n",
    "    轮到你了：\n",
    "</div>"
   ]
  },
  {
   "cell_type": "code",
   "execution_count": null,
   "metadata": {},
   "outputs": [],
   "source": []
  },
  {
   "cell_type": "markdown",
   "metadata": {},
   "source": [
    "## 6. 庞大的数组处理方法和函数"
   ]
  },
  {
   "cell_type": "markdown",
   "metadata": {},
   "source": [
    "<div class=\"alert alert-success alertsuccess\" style=\"margin-top: 10px\">\n",
    "    求和、平均值、方差、标准差、中位数: sum, mean/average, var, std, median\n",
    "    代码示例：\n",
    "</div>"
   ]
  },
  {
   "cell_type": "markdown",
   "metadata": {},
   "source": [
    "```python\n",
    "a = np.array([[3,7,2],[5,3,6]])\n",
    "print(a)\n",
    "\n",
    "#求和、平均值、方差、标准差、中位数: sum, mean/average, var, std, median \n",
    "print(a.sum())\n",
    "print(a.sum(axis=0))  #axis是常用的参数，在哪个轴进行求和\n",
    "print(a.sum(axis=1))\n",
    "\n",
    "print(a.mean())\n",
    "print(a.mean(axis=0)) #同理，axis指定在哪个轴求均值\n",
    "print(a.mean(axis=1))\n",
    "\n",
    "print(a.mean(dtype=int))\n",
    "```"
   ]
  },
  {
   "cell_type": "markdown",
   "metadata": {},
   "source": [
    "<div class=\"alert alert-success alertsuccess\" style=\"margin-top: 10px\">\n",
    "    轮到你了：\n",
    "</div>"
   ]
  },
  {
   "cell_type": "code",
   "execution_count": null,
   "metadata": {},
   "outputs": [],
   "source": []
  },
  {
   "cell_type": "markdown",
   "metadata": {},
   "source": [
    "<div class=\"alert alert-success alertsuccess\" style=\"margin-top: 10px\">\n",
    "    最值：min, max, ptp, argmin, argmax\n",
    "    代码示例：\n",
    "</div>"
   ]
  },
  {
   "cell_type": "markdown",
   "metadata": {},
   "source": [
    "```python\n",
    "a = np.array([[3,7,2],[5,3,6]])\n",
    "print(a)\n",
    "\n",
    "#最值：min, max, ptp（最大值和最小值之差）, argmin（最小值的位置）, argmax（最大值的位置）\n",
    "print(a.min())\n",
    "print(a.min(axis=0))\n",
    "print(a.min(axis=1))\n",
    "\n",
    "print(a.ptp(axis=1))\n",
    "\n",
    "print(a.argmin())\n",
    "\n",
    "print(a.argmin(axis=0))\n",
    "```"
   ]
  },
  {
   "cell_type": "markdown",
   "metadata": {},
   "source": [
    "<div class=\"alert alert-success alertsuccess\" style=\"margin-top: 10px\">\n",
    "    轮到你了：\n",
    "</div>"
   ]
  },
  {
   "cell_type": "code",
   "execution_count": null,
   "metadata": {},
   "outputs": [],
   "source": []
  },
  {
   "cell_type": "markdown",
   "metadata": {},
   "source": [
    "<div class=\"alert alert-success alertsuccess\" style=\"margin-top: 10px\">\n",
    "    排序：sort, argsort\n",
    "    代码示例：\n",
    "</div>"
   ]
  },
  {
   "cell_type": "markdown",
   "metadata": {},
   "source": [
    "```python\n",
    "a = np.array([[3,7,2],[5,3,6]])\n",
    "print(a)\n",
    "\n",
    "#排序：sort, argsort\n",
    "b = a.copy()\n",
    "a.sort()\n",
    "print(a)\n",
    "\n",
    "a.sort(axis=0)\n",
    "print(a)\n",
    "\n",
    "b.argsort(axis=1)\n",
    "```"
   ]
  },
  {
   "cell_type": "markdown",
   "metadata": {},
   "source": [
    "<div class=\"alert alert-success alertsuccess\" style=\"margin-top: 10px\">\n",
    "    轮到你了：\n",
    "</div>"
   ]
  },
  {
   "cell_type": "code",
   "execution_count": null,
   "metadata": {},
   "outputs": [],
   "source": []
  },
  {
   "attachments": {},
   "cell_type": "markdown",
   "metadata": {},
   "source": [
    "<div class=\"alert alert-success alertsuccess\" style=\"margin-top: 10px\">\n",
    "    查询：nonzero where\n",
    "    代码示例：\n",
    "</div>"
   ]
  },
  {
   "cell_type": "markdown",
   "metadata": {},
   "source": [
    "```python\n",
    "#查询：nonzero(a)，返回非零元素位置，是下标组成的元组\n",
    "a = np.eye(3)\n",
    "print(a)\n",
    "print(np.nonzero(a))\n",
    "\n",
    "print(np.where(a==0))\n",
    "```"
   ]
  },
  {
   "cell_type": "markdown",
   "metadata": {},
   "source": [
    "<div class=\"alert alert-success alertsuccess\" style=\"margin-top: 10px\">\n",
    "    轮到你了：\n",
    "</div>"
   ]
  },
  {
   "cell_type": "code",
   "execution_count": null,
   "metadata": {},
   "outputs": [],
   "source": []
  },
  {
   "cell_type": "markdown",
   "metadata": {},
   "source": [
    "## 7. 广播\n",
    "\n",
    "ufunc函数对两个数组进行计算时，两个数组的对应元素进行计算，因此它要求这两个数组有相同的大小(shape相同)，如数组的shape不同，会进行广播处理：\n",
    "- 让所有输入数组都向其中shape最长的数组看齐，shape中不足的部分都通过在前面加1补齐\n",
    "- 输出数组的shape是输入数组shape的各个轴上的最大值\n",
    "- 如果输入数组的某个轴和输出数组的对应轴的长度相同或者其长度为1时，这个数组能够用来计算，否则出错\n",
    "- 当输入数组的某个轴的长度为1时，沿着此轴运算时都用此轴上的第一组值"
   ]
  },
  {
   "cell_type": "markdown",
   "metadata": {},
   "source": [
    "<div class=\"alert alert-success alertsuccess\" style=\"margin-top: 10px\">\n",
    "    代码示例：\n",
    "</div>"
   ]
  },
  {
   "cell_type": "markdown",
   "metadata": {},
   "source": [
    "```python\n",
    "a = np.arange(6).reshape((-1,1))\n",
    "b = np.array([2,3,4])\n",
    "print(a)\n",
    "print(b)\n",
    "print(a.shape)\n",
    "print(b.shape)\n",
    "\n",
    "c = a+b\n",
    "print(c)\n",
    "print(c.shape)\n",
    "```"
   ]
  },
  {
   "cell_type": "markdown",
   "metadata": {},
   "source": [
    "<div class=\"alert alert-success alertsuccess\" style=\"margin-top: 10px\">\n",
    "    轮到你了：\n",
    "</div>"
   ]
  },
  {
   "cell_type": "code",
   "execution_count": null,
   "metadata": {},
   "outputs": [],
   "source": []
  },
  {
   "attachments": {},
   "cell_type": "markdown",
   "metadata": {},
   "source": [
    "### 7.1 ogrid对象\n",
    "\n",
    "ogrid对象返回一列一行两个可广播的数组，它有两种形式：\n",
    "\n",
    "1. 开始值:结束值:步长，和np.arange(开始值, 结束值, 步长)类似\n",
    "\n",
    "2. 开始值:结束值:长度j，当第三个参数为虚数时，它表示返回的数组的长度，和np.linspace(开始值, 结束值, 长度)类似\n"
   ]
  },
  {
   "cell_type": "markdown",
   "metadata": {},
   "source": [
    "<div class=\"alert alert-success alertsuccess\" style=\"margin-top: 10px\">\n",
    "    代码示例：\n",
    "</div>"
   ]
  },
  {
   "cell_type": "markdown",
   "metadata": {},
   "source": [
    "```python\n",
    "x,y = np.ogrid[1:5, 1:6:3j]\n",
    "print(x)\n",
    "print(y)\n",
    "print(x.shape)\n",
    "print(y.shape)\n",
    "\n",
    "z = x*np.exp(-x**2-y**2)\n",
    "print(z)\n",
    "print(z.shape)\n",
    "```"
   ]
  },
  {
   "cell_type": "markdown",
   "metadata": {},
   "source": [
    "<div class=\"alert alert-success alertsuccess\" style=\"margin-top: 10px\">\n",
    "    轮到你了：\n",
    "</div>"
   ]
  },
  {
   "cell_type": "code",
   "execution_count": null,
   "metadata": {},
   "outputs": [],
   "source": []
  },
  {
   "attachments": {},
   "cell_type": "markdown",
   "metadata": {},
   "source": [
    "### 7.2 mgrid对象/meshgrid函数\n",
    "\n",
    "与ogrid相似，但返回进行广播之后的数组"
   ]
  },
  {
   "cell_type": "markdown",
   "metadata": {},
   "source": [
    "<div class=\"alert alert-success alertsuccess\" style=\"margin-top: 10px\">\n",
    "    代码示例：\n",
    "</div>"
   ]
  },
  {
   "cell_type": "markdown",
   "metadata": {},
   "source": [
    "```python\n",
    "x,y = np.mgrid[1:5, 1:6:3j]\n",
    "#或者：\n",
    "x,y = np.meshgrid(np.linspace(1,6,3), np.arange(1,5))\n",
    "print(x)\n",
    "print(y)\n",
    "print(x.shape)\n",
    "print(y.shape)\n",
    "\n",
    "z = x*np.exp(-x**2-y**2)\n",
    "print(z)\n",
    "print(z.shape)\n",
    "```"
   ]
  },
  {
   "cell_type": "markdown",
   "metadata": {},
   "source": [
    "<div class=\"alert alert-success alertsuccess\" style=\"margin-top: 10px\">\n",
    "    轮到你了：\n",
    "</div>"
   ]
  },
  {
   "cell_type": "code",
   "execution_count": null,
   "metadata": {},
   "outputs": [],
   "source": []
  },
  {
   "attachments": {},
   "cell_type": "markdown",
   "metadata": {},
   "source": [
    "## 8. 文件存取\n",
    "\n",
    "文件类型：\n",
    "\n",
    "1. 文本格式\n",
    "2. 二进制格式（无格式、Numpy专用格式）"
   ]
  },
  {
   "attachments": {},
   "cell_type": "markdown",
   "metadata": {},
   "source": [
    "### 8.1 文本文件存取\n",
    "\n",
    "savetxt和loadtxt读取1维和2维数组"
   ]
  },
  {
   "cell_type": "markdown",
   "metadata": {},
   "source": [
    "<div class=\"alert alert-success alertsuccess\" style=\"margin-top: 10px\">\n",
    "    代码示例：\n",
    "</div>"
   ]
  },
  {
   "cell_type": "markdown",
   "metadata": {},
   "source": [
    "```python\n",
    "a = np.random.rand(3,4)\n",
    "print(a)\n",
    "\n",
    "np.savetxt('a.txt', a) #默认按小数点后面18位科学计数法表示，空格分隔\n",
    "\n",
    "b = np.loadtxt('a.txt')\n",
    "print(b)\n",
    "\n",
    "np.savetxt('a.txt', a, fmt = '%.2f', delimiter=',')#小数点后面两位，都好分隔\n",
    "\n",
    "b = np.loadtxt('a.txt', delimiter=',')\n",
    "print(b)\n",
    "\n",
    "b1,b2 = np.loadtxt('a.txt', delimiter=',', usecols=(1,2), unpack=True)\n",
    "print(b1)\n",
    "print(b2)\n",
    "\n",
    "b3= np.loadtxt('a.txt', delimiter=',', usecols=(1,2))\n",
    "print(b3)\n",
    "\n",
    "#压缩文件，后缀为gz\n",
    "c = np.full((1000,1000),999.99)\n",
    "print(c)\n",
    "\n",
    "np.savetxt('c.gz', c, fmt='%.2f')\n",
    "\n",
    "d = np.loadtxt('c.gz')\n",
    "print(d)\n",
    "```"
   ]
  },
  {
   "cell_type": "markdown",
   "metadata": {},
   "source": [
    "<div class=\"alert alert-success alertsuccess\" style=\"margin-top: 10px\">\n",
    "    轮到你了：\n",
    "</div>"
   ]
  },
  {
   "cell_type": "code",
   "execution_count": null,
   "metadata": {},
   "outputs": [],
   "source": []
  },
  {
   "attachments": {},
   "cell_type": "markdown",
   "metadata": {},
   "source": [
    "### 8.2 无格式二进制文件\n",
    "\n",
    "ndarray.tofile(fid, sep='', format='%s')和 fromfile(file, dtype=float, count=-1, sep='')"
   ]
  },
  {
   "cell_type": "markdown",
   "metadata": {},
   "source": [
    "<div class=\"alert alert-success alertsuccess\" style=\"margin-top: 10px\">\n",
    "    代码示例：\n",
    "</div>"
   ]
  },
  {
   "cell_type": "markdown",
   "metadata": {},
   "source": [
    "```python\n",
    "a = np.random.rand(3,4)\n",
    "print(a)\n",
    "print(a.shape)\n",
    "\n",
    "a.tofile('a.bin', format = '%f')\n",
    "\n",
    "b = np.fromfile('a.bin')\n",
    "print(b)\n",
    "print(b.shape) #没有a的维度信息\n",
    "```"
   ]
  },
  {
   "cell_type": "markdown",
   "metadata": {},
   "source": [
    "<div class=\"alert alert-success alertsuccess\" style=\"margin-top: 10px\">\n",
    "    轮到你了：\n",
    "</div>"
   ]
  },
  {
   "cell_type": "code",
   "execution_count": null,
   "metadata": {},
   "outputs": [],
   "source": []
  },
  {
   "attachments": {},
   "cell_type": "markdown",
   "metadata": {},
   "source": [
    "### 8.3 numpy专用格式二进制文件\n",
    "\n",
    "save(file, arr)和load(file)：自动处理元素类型和shape等信息\n",
    "\n",
    "推荐使用！"
   ]
  },
  {
   "cell_type": "markdown",
   "metadata": {},
   "source": [
    "<div class=\"alert alert-success alertsuccess\" style=\"margin-top: 10px\">\n",
    "    代码示例：\n",
    "</div>"
   ]
  },
  {
   "cell_type": "markdown",
   "metadata": {},
   "source": [
    "```python\n",
    "a = np.random.rand(3,4)\n",
    "print(a)\n",
    "print(a.shape)\n",
    "\n",
    "np.save('a.npy', a)\n",
    "\n",
    "b = np.load('a.npy')\n",
    "print(b)\n",
    "print(b.shape)\n",
    "\n",
    "#多个数组保存在一个文件中\n",
    "c = np.arange(0, 0.5, 0.1)\n",
    "np.savez('two.npz', a, my=c)\n",
    "\n",
    "d = np.load('two.npz')\n",
    "print(d)\n",
    "print(type(d))\n",
    "\n",
    "print(d['arr_0'])\n",
    "\n",
    "print(d['my'])\n",
    "```"
   ]
  },
  {
   "cell_type": "markdown",
   "metadata": {},
   "source": [
    "<div class=\"alert alert-success alertsuccess\" style=\"margin-top: 10px\">\n",
    "    轮到你了：\n",
    "</div>"
   ]
  },
  {
   "cell_type": "code",
   "execution_count": null,
   "metadata": {},
   "outputs": [],
   "source": []
  }
 ],
 "metadata": {
  "kernelspec": {
   "display_name": "Python 3 (ipykernel)",
   "language": "python",
   "name": "python3"
  },
  "language_info": {
   "codemirror_mode": {
    "name": "ipython",
    "version": 3
   },
   "file_extension": ".py",
   "mimetype": "text/x-python",
   "name": "python",
   "nbconvert_exporter": "python",
   "pygments_lexer": "ipython3",
   "version": "3.12.3"
  }
 },
 "nbformat": 4,
 "nbformat_minor": 4
}
