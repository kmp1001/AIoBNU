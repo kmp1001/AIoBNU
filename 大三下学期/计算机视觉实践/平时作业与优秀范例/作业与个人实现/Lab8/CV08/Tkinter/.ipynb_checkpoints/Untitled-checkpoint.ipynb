{
 "cells": [
  {
   "cell_type": "markdown",
   "id": "d7fbe2e8-03a4-42ee-8872-9c0dd20afdd2",
   "metadata": {},
   "source": [
    "作者：邓擎琼"
   ]
  },
  {
   "cell_type": "markdown",
   "id": "4848752f-679c-4cd5-a0ac-92fe01797aaf",
   "metadata": {},
   "source": [
    "# tkinter更多组件的示例"
   ]
  },
  {
   "cell_type": "markdown",
   "id": "c31240a4-e4b2-4889-883d-02607766e49c",
   "metadata": {},
   "source": [
    "<div class=\"alert alert-success alertsuccess\" style=\"margin-top: 10px\">\n",
    "    Label 组件：\n",
    "</div>"
   ]
  },
  {
   "cell_type": "code",
   "execution_count": 3,
   "id": "be48eeb7-6d64-4d16-aaff-572d67225fb9",
   "metadata": {},
   "outputs": [
    {
     "ename": "TclError",
     "evalue": "image \"pyimage3\" doesn't exist",
     "output_type": "error",
     "traceback": [
      "\u001b[1;31m---------------------------------------------------------------------------\u001b[0m",
      "\u001b[1;31mTclError\u001b[0m                                  Traceback (most recent call last)",
      "Cell \u001b[1;32mIn[3], line 30\u001b[0m\n\u001b[0;32m     27\u001b[0m window\u001b[38;5;241m.\u001b[39mtitle(\u001b[38;5;124m'\u001b[39m\u001b[38;5;124mMy window\u001b[39m\u001b[38;5;124m'\u001b[39m)\n\u001b[0;32m     28\u001b[0m window\u001b[38;5;241m.\u001b[39mgeometry(\u001b[38;5;124m'\u001b[39m\u001b[38;5;124m400x600+100+100\u001b[39m\u001b[38;5;124m'\u001b[39m)  \n\u001b[1;32m---> 30\u001b[0m app \u001b[38;5;241m=\u001b[39m Application(master\u001b[38;5;241m=\u001b[39mwindow)  \u001b[38;5;66;03m#创建实例，master是主窗口\u001b[39;00m\n\u001b[0;32m     32\u001b[0m window\u001b[38;5;241m.\u001b[39mmainloop()\n",
      "Cell \u001b[1;32mIn[3], line 10\u001b[0m, in \u001b[0;36mApplication.__init__\u001b[1;34m(self, master)\u001b[0m\n\u001b[0;32m      8\u001b[0m \u001b[38;5;28mself\u001b[39m\u001b[38;5;241m.\u001b[39mmaster \u001b[38;5;241m=\u001b[39m master\n\u001b[0;32m      9\u001b[0m \u001b[38;5;28mself\u001b[39m\u001b[38;5;241m.\u001b[39mpack() \n\u001b[1;32m---> 10\u001b[0m \u001b[38;5;28mself\u001b[39m\u001b[38;5;241m.\u001b[39mcreateWidgets()\n",
      "Cell \u001b[1;32mIn[3], line 17\u001b[0m, in \u001b[0;36mApplication.createWidgets\u001b[1;34m(self)\u001b[0m\n\u001b[0;32m     14\u001b[0m \u001b[38;5;28mself\u001b[39m\u001b[38;5;241m.\u001b[39mlable1\u001b[38;5;241m.\u001b[39mpack()\n\u001b[0;32m     16\u001b[0m \u001b[38;5;28mself\u001b[39m\u001b[38;5;241m.\u001b[39mimg \u001b[38;5;241m=\u001b[39m PhotoImage(file \u001b[38;5;241m=\u001b[39m \u001b[38;5;124m'\u001b[39m\u001b[38;5;124mImages/smile.gif\u001b[39m\u001b[38;5;124m'\u001b[39m)   \u001b[38;5;66;03m#目前只支持gif格式\u001b[39;00m\n\u001b[1;32m---> 17\u001b[0m \u001b[38;5;28mself\u001b[39m\u001b[38;5;241m.\u001b[39mlable2 \u001b[38;5;241m=\u001b[39m Label(\u001b[38;5;28mself\u001b[39m, image \u001b[38;5;241m=\u001b[39m \u001b[38;5;28mself\u001b[39m\u001b[38;5;241m.\u001b[39mimg)\n\u001b[0;32m     18\u001b[0m \u001b[38;5;28mself\u001b[39m\u001b[38;5;241m.\u001b[39mlable2\u001b[38;5;241m.\u001b[39mpack()\n\u001b[0;32m     20\u001b[0m pilImg \u001b[38;5;241m=\u001b[39m Image\u001b[38;5;241m.\u001b[39mopen(\u001b[38;5;124m'\u001b[39m\u001b[38;5;124mImages/logo.png\u001b[39m\u001b[38;5;124m'\u001b[39m)  \u001b[38;5;66;03m#别的图像格式可以通过PIL进行转换\u001b[39;00m\n",
      "File \u001b[1;32mC:\\anaconda3\\Lib\\tkinter\\__init__.py:3231\u001b[0m, in \u001b[0;36mLabel.__init__\u001b[1;34m(self, master, cnf, **kw)\u001b[0m\n\u001b[0;32m   3213\u001b[0m \u001b[38;5;28;01mdef\u001b[39;00m \u001b[38;5;21m__init__\u001b[39m(\u001b[38;5;28mself\u001b[39m, master\u001b[38;5;241m=\u001b[39m\u001b[38;5;28;01mNone\u001b[39;00m, cnf\u001b[38;5;241m=\u001b[39m{}, \u001b[38;5;241m*\u001b[39m\u001b[38;5;241m*\u001b[39mkw):\n\u001b[0;32m   3214\u001b[0m \u001b[38;5;250m    \u001b[39m\u001b[38;5;124;03m\"\"\"Construct a label widget with the parent MASTER.\u001b[39;00m\n\u001b[0;32m   3215\u001b[0m \n\u001b[0;32m   3216\u001b[0m \u001b[38;5;124;03m    STANDARD OPTIONS\u001b[39;00m\n\u001b[1;32m   (...)\u001b[0m\n\u001b[0;32m   3229\u001b[0m \n\u001b[0;32m   3230\u001b[0m \u001b[38;5;124;03m    \"\"\"\u001b[39;00m\n\u001b[1;32m-> 3231\u001b[0m     Widget\u001b[38;5;241m.\u001b[39m\u001b[38;5;21m__init__\u001b[39m(\u001b[38;5;28mself\u001b[39m, master, \u001b[38;5;124m'\u001b[39m\u001b[38;5;124mlabel\u001b[39m\u001b[38;5;124m'\u001b[39m, cnf, kw)\n",
      "File \u001b[1;32mC:\\anaconda3\\Lib\\tkinter\\__init__.py:2647\u001b[0m, in \u001b[0;36mBaseWidget.__init__\u001b[1;34m(self, master, widgetName, cnf, kw, extra)\u001b[0m\n\u001b[0;32m   2645\u001b[0m \u001b[38;5;28;01mfor\u001b[39;00m k, v \u001b[38;5;129;01min\u001b[39;00m classes:\n\u001b[0;32m   2646\u001b[0m     \u001b[38;5;28;01mdel\u001b[39;00m cnf[k]\n\u001b[1;32m-> 2647\u001b[0m \u001b[38;5;28mself\u001b[39m\u001b[38;5;241m.\u001b[39mtk\u001b[38;5;241m.\u001b[39mcall(\n\u001b[0;32m   2648\u001b[0m     (widgetName, \u001b[38;5;28mself\u001b[39m\u001b[38;5;241m.\u001b[39m_w) \u001b[38;5;241m+\u001b[39m extra \u001b[38;5;241m+\u001b[39m \u001b[38;5;28mself\u001b[39m\u001b[38;5;241m.\u001b[39m_options(cnf))\n\u001b[0;32m   2649\u001b[0m \u001b[38;5;28;01mfor\u001b[39;00m k, v \u001b[38;5;129;01min\u001b[39;00m classes:\n\u001b[0;32m   2650\u001b[0m     k\u001b[38;5;241m.\u001b[39mconfigure(\u001b[38;5;28mself\u001b[39m, v)\n",
      "\u001b[1;31mTclError\u001b[0m: image \"pyimage3\" doesn't exist"
     ]
    }
   ],
   "source": [
    "from tkinter import *\n",
    "from PIL import Image, ImageTk\n",
    "\n",
    "class Application(Frame): \n",
    "    '''一个经典的GUI程序的类的写法'''\n",
    "    def __init__(self, master=None):   #构造函数\n",
    "        super().__init__(master)  #调用父类的构造函数\n",
    "        self.master = master\n",
    "        self.pack() \n",
    "        self.createWidgets()\n",
    "        \n",
    "    def createWidgets(self):\n",
    "        self.lable1 = Label(self, text = 'Label示例', bg='light green', font=('Arial', 12), width=15, height=2)\n",
    "        self.lable1.pack()\n",
    "        \n",
    "        self.img = PhotoImage(file = 'Images/smile.gif')   #目前只支持gif格式\n",
    "        self.lable2 = Label(self, image = self.img)\n",
    "        self.lable2.pack()\n",
    "\n",
    "        pilImg = Image.open('Images/logo.png')  #别的图像格式可以通过PIL进行转换\n",
    "        self.img2 = ImageTk.PhotoImage(image = pilImg)   \n",
    "        self.lable3 = Label(self, image = self.img2)\n",
    "        self.lable3.pack()\n",
    "    \n",
    "        \n",
    "window = Tk()  #主窗口\n",
    "window.title('My window')\n",
    "window.geometry('400x600+100+100')  \n",
    "\n",
    "app = Application(master=window)  #创建实例，master是主窗口\n",
    "\n",
    "window.mainloop()  #事件循环"
   ]
  }
 ],
 "metadata": {
  "kernelspec": {
   "display_name": "Python 3 (ipykernel)",
   "language": "python",
   "name": "python3"
  },
  "language_info": {
   "codemirror_mode": {
    "name": "ipython",
    "version": 3
   },
   "file_extension": ".py",
   "mimetype": "text/x-python",
   "name": "python",
   "nbconvert_exporter": "python",
   "pygments_lexer": "ipython3",
   "version": "3.11.8"
  }
 },
 "nbformat": 4,
 "nbformat_minor": 5
}
